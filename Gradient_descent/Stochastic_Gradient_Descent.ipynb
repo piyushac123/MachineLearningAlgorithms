{
 "cells": [
  {
   "cell_type": "code",
   "execution_count": 1,
   "metadata": {},
   "outputs": [],
   "source": [
    "import numpy as np\n",
    "import random as rd\n",
    "import matplotlib.pyplot as plt"
   ]
  },
  {
   "cell_type": "code",
   "execution_count": 2,
   "metadata": {},
   "outputs": [
    {
     "name": "stdout",
     "output_type": "stream",
     "text": [
      "(500, 100)\n",
      "(500, 1)\n"
     ]
    }
   ],
   "source": [
    "train_array = np.genfromtxt(\"A2Q2Data_train.csv\", delimiter=\",\")\n",
    "test_array = np.genfromtxt(\"A2Q2Data_test.csv\", delimiter=\",\")\n",
    "\n",
    "# a = np.array([[1,2,3],[4,5,6]])\n",
    "# b = a[:,:1]\n",
    "# print(b)\n",
    "\n",
    "x_train = train_array[:,:100]\n",
    "y_train = train_array[:,100:]\n",
    "\n",
    "x_test = test_array[:,:100]\n",
    "y_test = test_array[:,100:]\n",
    "\n",
    "print(x_train.shape)\n",
    "print(y_train.shape)"
   ]
  },
  {
   "cell_type": "code",
   "execution_count": 11,
   "metadata": {},
   "outputs": [
    {
     "name": "stdout",
     "output_type": "stream",
     "text": [
      "(100, 100)\n",
      "(100, 1)\n"
     ]
    }
   ],
   "source": [
    "# x_train = np.array([[1,2],[3,2]])\n",
    "# y_train = np.array([1,2])\n",
    "#W = np.zeros(100)\n",
    "W = np.zeros(100)\n",
    "train_size = 500\n",
    "x_cur = x_train[:100,:]\n",
    "y_cur = y_train[:100,:]\n",
    "\n",
    "print(x_cur.shape)\n",
    "print(y_cur.shape)\n",
    "xtx = x_cur.T.dot(x_cur)\n",
    "xtx_inv = np.linalg.inv(xtx) \n",
    "xty = x_cur.T.dot(y_cur)\n",
    "# print(xtx)\n",
    "# print(xtx_inv)\n",
    "# print(xty)\n",
    "\n",
    "W_ml = (xtx_inv).dot(xty)\n",
    "W_ml = W_ml.flatten()\n",
    "# print(W_ml)\n",
    "\n",
    "# print(W.shape)\n",
    "# print(xtx.shape)\n",
    "# print(xty.shape)\n",
    "# print(xtx_inv.shape)\n",
    "# print(W.shape)\n",
    "# print(xty.shape)\n",
    "\n",
    "cur_W = np.array([])\n",
    "for i in W:\n",
    "    cur_W = np.append(cur_W,i)\n",
    "    \n",
    "# print(xty.shape)\n",
    "# print(xtx_inv.dot(cur_W))\n",
    "# print(xty.flatten())\n",
    "# print(xtx_inv.dot(cur_W) - xty.flatten())\n",
    "# print(cur_W)\n",
    "    \n",
    "lse = np.array([])\n",
    "itr = np.array([])\n",
    "for t in range(1200):\n",
    "    x_cur = x_train[((t%5)*100):((t%5)*100)+100,:]\n",
    "    y_cur = y_train[((t%5)*100):((t%5)*100)+100,:]\n",
    "    \n",
    "    xtx = x_cur.T.dot(x_cur)\n",
    "    xtx_inv = np.linalg.inv(xtx) \n",
    "    xty = x_cur.T.dot(y_cur)\n",
    "    \n",
    "    W_ml = (xtx_inv).dot(xty)\n",
    "    W_ml = W_ml.flatten()\n",
    "    \n",
    "    delta_W = xtx_inv.dot(cur_W) - xty.flatten()#(dX1) vector -> delta_W\n",
    "    #flatten() -> convert 2d -> 1d\n",
    "    cur_W = cur_W - (0.00001)*(delta_W)#(dX1) vector -> cur_W\n",
    "    lse = np.append(lse,np.linalg.norm(cur_W-W_ml))\n",
    "    itr = np.append(itr,t)\n",
    "    #print(np.linalg.norm(cur_W-W_ml))\n",
    "# print(delta_W)\n",
    "# print(cur_W)\n",
    "# print(lse)\n",
    "# print(itr)\n"
   ]
  },
  {
   "cell_type": "code",
   "execution_count": 13,
   "metadata": {},
   "outputs": [
    {
     "data": {
      "image/png": "[encoded data removed]",
      "text/plain": [
       "<Figure size 432x288 with 1 Axes>"
      ]
     },
     "metadata": {
      "needs_background": "light"
     },
     "output_type": "display_data"
    }
   ],
   "source": [
    "plt.suptitle('Stochastic Gradient Descent', fontsize=20)\n",
    "plt.ylabel(\"L2 norm of wt-wml\")\n",
    "plt.xlabel(\"number of Iterations\")\n",
    "plt.scatter(itr[:], lse[:], s=100)\n",
    "plt.show()"
   ]
  },
  {
   "cell_type": "code",
   "execution_count": null,
   "metadata": {},
   "outputs": [],
   "source": []
  },
  {
   "cell_type": "code",
   "execution_count": null,
   "metadata": {},
   "outputs": [],
   "source": []
  }
 ],
 "metadata": {
  "kernelspec": {
   "display_name": "Python 2",
   "language": "python",
   "name": "python2"
  },
  "language_info": {
   "codemirror_mode": {
    "name": "ipython",
    "version": 2
   },
   "file_extension": ".py",
   "mimetype": "text/x-python",
   "name": "python",
   "nbconvert_exporter": "python",
   "pygments_lexer": "ipython2",
   "version": "2.7.17"
  }
 },
 "nbformat": 4,
 "nbformat_minor": 2
}
