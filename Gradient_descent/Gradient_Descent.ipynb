{
 "cells": [
  {
   "cell_type": "code",
   "execution_count": 1,
   "metadata": {},
   "outputs": [],
   "source": [
    "import numpy as np\n",
    "import matplotlib.pyplot as plt"
   ]
  },
  {
   "cell_type": "code",
   "execution_count": 2,
   "metadata": {},
   "outputs": [],
   "source": [
    "train_array = np.genfromtxt(\"A2Q2Data_train.csv\", delimiter=\",\")\n",
    "test_array = np.genfromtxt(\"A2Q2Data_test.csv\", delimiter=\",\")\n",
    "\n",
    "# a = np.array([[1,2,3],[4,5,6]])\n",
    "# b = a[:,:1]\n",
    "# print(b)\n",
    "\n",
    "x_train = train_array[:,:100]\n",
    "y_train = train_array[:,100:]\n",
    "\n",
    "x_test = test_array[:,:100]\n",
    "y_test = test_array[:,100:]\n",
    "\n",
    "# print(train_array)\n",
    "# print(test_array)\n",
    "\n",
    "# print(train_array.shape)\n",
    "# print(test_array.shape)\n",
    "\n",
    "# print(x_train.shape)\n",
    "# print(y_train.shape)\n",
    "# print(x_test.shape)\n",
    "# print(y_test.shape)"
   ]
  },
  {
   "cell_type": "code",
   "execution_count": 3,
   "metadata": {},
   "outputs": [],
   "source": [
    "# x_train = np.array([[1,2],[3,2]])\n",
    "# y_train = np.array([1,2])\n",
    "#W = np.zeros(100)\n",
    "W = np.zeros(100)\n",
    "xtx = x_train.T.dot(x_train)\n",
    "xtx_inv = np.linalg.inv(xtx) \n",
    "xty = x_train.T.dot(y_train)\n",
    "# print(xtx)\n",
    "# print(xtx_inv)\n",
    "# print(xty)\n",
    "\n",
    "W_ml = (xtx_inv).dot(xty)\n",
    "W_ml = W_ml.flatten()\n",
    "# print(W_ml)\n",
    "\n",
    "# print(W.shape)\n",
    "# print(xtx.shape)\n",
    "# print(xty.shape)\n",
    "# print(xtx_inv.shape)\n",
    "# print(W.shape)\n",
    "# print(xty.shape)\n",
    "\n",
    "cur_W = np.array([])\n",
    "for i in W:\n",
    "    cur_W = np.append(cur_W,i)\n",
    "    \n",
    "# print(xty.shape)\n",
    "# print(xtx_inv.dot(cur_W))\n",
    "# print(xty.flatten())\n",
    "# print(xtx_inv.dot(cur_W) - xty.flatten())\n",
    "# print(cur_W)\n",
    "    \n",
    "lse = np.array([])\n",
    "itr = np.array([])\n",
    "for t in range(500):\n",
    "    delta_W = xtx_inv.dot(cur_W) - xty.flatten()#(dX1) vector -> delta_W\n",
    "    #flatten() -> convert 2d -> 1d\n",
    "    cur_W = cur_W - (0.0000004)*(delta_W)#(dX1) vector -> cur_W\n",
    "    lse = np.append(lse,np.linalg.norm(cur_W-W_ml))\n",
    "    itr = np.append(itr,t)\n",
    "    #print(np.linalg.norm(cur_W-W_ml))\n",
    "# print(delta_W)\n",
    "# print(cur_W)\n",
    "# print(lse)\n",
    "# print(itr)\n"
   ]
  },
  {
   "cell_type": "code",
   "execution_count": 5,
   "metadata": {},
   "outputs": [
    {
     "data": {
      "image/png": "[encoded data removed]",
      "text/plain": [
       "<Figure size 432x288 with 1 Axes>"
      ]
     },
     "metadata": {
      "needs_background": "light"
     },
     "output_type": "display_data"
    }
   ],
   "source": [
    "plt.suptitle('Gradient Descent Algorithm', fontsize=20)\n",
    "plt.ylabel(\"L2 norm of wt-wml\")\n",
    "plt.xlabel(\"number of Iterations\")\n",
    "plt.scatter(itr[:], lse[:], s=100)\n",
    "plt.show()"
   ]
  },
  {
   "cell_type": "code",
   "execution_count": null,
   "metadata": {},
   "outputs": [],
   "source": []
  }
 ],
 "metadata": {
  "kernelspec": {
   "display_name": "Python 3",
   "language": "python",
   "name": "python3"
  },
  "language_info": {
   "codemirror_mode": {
    "name": "ipython",
    "version": 3
   },
   "file_extension": ".py",
   "mimetype": "text/x-python",
   "name": "python",
   "nbconvert_exporter": "python",
   "pygments_lexer": "ipython3",
   "version": "3.8.5"
  }
 },
 "nbformat": 4,
 "nbformat_minor": 2
}
