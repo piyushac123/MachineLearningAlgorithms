{
 "cells": [
  {
   "cell_type": "code",
   "execution_count": 15,
   "metadata": {},
   "outputs": [],
   "source": [
    "import numpy as np\n",
    "import random as rd\n",
    "import matplotlib.pyplot as plt"
   ]
  },
  {
   "cell_type": "code",
   "execution_count": 16,
   "metadata": {},
   "outputs": [
    {
     "name": "stdout",
     "output_type": "stream",
     "text": [
      "(1000,)\n"
     ]
    }
   ],
   "source": [
    "numpy_array = np.genfromtxt(\"A2Q1Data.csv\", delimiter=\",\")\n",
    "print(numpy_array.shape)"
   ]
  },
  {
   "cell_type": "code",
   "execution_count": 49,
   "metadata": {},
   "outputs": [
    {
     "name": "stdout",
     "output_type": "stream",
     "text": [
      "[-1554.53224267 -1555.73426128 -1557.41421204 -1559.18888098\n",
      " -1561.05997674 -1563.03163742 -1565.10805074 -1567.29341481\n",
      " -1569.59191163 -1572.00767695 -1574.54476595 -1577.20711465\n",
      " -1579.99849679 -1582.92247604 -1585.98235354 -1589.18111078\n",
      " -1592.52134807 -1596.0052187  -1599.63435957 -1603.40981872]\n"
     ]
    }
   ],
   "source": [
    "iteration = 20\n",
    "m = np.array([])\n",
    "s = np.array([])\n",
    "p = np.array([])\n",
    "for i in range(4):\n",
    "    m = np.append(m,rd.randint(0,100))\n",
    "    s = np.append(s,rd.randint(0,100))\n",
    "    p = np.append(p,rd.randint(0,100))\n",
    "    \n",
    "l = np.array([1,2,3,4])\n",
    "for i in range(999):\n",
    "    temp = np.array([])\n",
    "    for j in range(4):\n",
    "        temp = np.append(temp,rd.randint(0,100))\n",
    "    l = np.vstack([l,temp])\n",
    "# m = np.ones(4)#mu\n",
    "# arr = (numpy_array.size,4)\n",
    "# l = np.ones(arr)#lambda\n",
    "# s = np.ones(4)#sigma\n",
    "# p = np.ones(4)#pi\n",
    "\n",
    "log = np.array([])\n",
    "\n",
    "# print(m)\n",
    "# print(l.shape)\n",
    "# print(s)\n",
    "# print(p)\n",
    "# print(log)\n",
    "\n",
    "for t in range(iteration):\n",
    "    for i in range(numpy_array.size):\n",
    "        sum = 0\n",
    "        for k in range(4):\n",
    "            val = np.exp(-((numpy_array[i]-m[k])**2/(2*s[k]+(1e-6))))*p[k]\n",
    "            l[i][k] = val\n",
    "            sum = sum + val\n",
    "        l[i] = l[i]/sum\n",
    "        \n",
    "    for k in range(4):\n",
    "        p_sum = 0\n",
    "        num_m = 0\n",
    "        num_v = 0\n",
    "        for i in range(numpy_array.size):\n",
    "            p_sum = p_sum + l[i][k]\n",
    "            num_m = num_m + numpy_array[i] + l[i][k]\n",
    "        p_sum = p_sum + 1e-6\n",
    "        m[k] = num_m/p_sum\n",
    "        \n",
    "        for i in range(numpy_array.size):\n",
    "            num_v = num_v + l[i][k]*((numpy_array[i]-m[k])**2)\n",
    "            \n",
    "        s[k] = num_v/p_sum\n",
    "        p[k] = p_sum/1000\n",
    "        \n",
    "    res = 0\n",
    "    for i in range(numpy_array.size):\n",
    "        val = 0\n",
    "        for k in range(4):\n",
    "            val = val + np.exp(-((numpy_array[i]-m[k])**2/(2*s[k]+1e-6)))*p[k]*(1/np.sqrt(2*np.pi*s[k]+1e-6))\n",
    "        res = res + np.log(val)\n",
    "    log = np.append(log,res)\n",
    "#print(log)\n",
    "\n",
    "itr = np.array([])\n",
    "for i in range(iteration):\n",
    "    itr = np.append(itr,i+1)\n",
    "    \n",
    "# print(itr)"
   ]
  },
  {
   "cell_type": "code",
   "execution_count": 50,
   "metadata": {},
   "outputs": [
    {
     "data": {
      "image/png": "[encoded data removed]",
      "text/plain": [
       "<Figure size 432x288 with 1 Axes>"
      ]
     },
     "metadata": {
      "needs_background": "light"
     },
     "output_type": "display_data"
    }
   ],
   "source": [
    "plt.suptitle('Gaussian Mixture Model', fontsize=20)\n",
    "plt.ylabel(\"log_likelihood\")\n",
    "plt.xlabel(\"number of Iterations\")\n",
    "plt.scatter(itr[:], log[:], s=100)\n",
    "plt.show()"
   ]
  },
  {
   "cell_type": "code",
   "execution_count": null,
   "metadata": {},
   "outputs": [],
   "source": []
  }
 ],
 "metadata": {
  "kernelspec": {
   "display_name": "Python 2",
   "language": "python",
   "name": "python2"
  },
  "language_info": {
   "codemirror_mode": {
    "name": "ipython",
    "version": 2
   },
   "file_extension": ".py",
   "mimetype": "text/x-python",
   "name": "python",
   "nbconvert_exporter": "python",
   "pygments_lexer": "ipython2",
   "version": "2.7.17"
  }
 },
 "nbformat": 4,
 "nbformat_minor": 2
}
