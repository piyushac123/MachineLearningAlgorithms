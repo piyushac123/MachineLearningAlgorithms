{
 "cells": [
  {
   "cell_type": "code",
   "execution_count": 1,
   "metadata": {},
   "outputs": [],
   "source": [
    "import numpy as np\n",
    "import math\n",
    "import random as rd\n",
    "import matplotlib.pyplot as plt"
   ]
  },
  {
   "cell_type": "code",
   "execution_count": 2,
   "metadata": {},
   "outputs": [],
   "source": [
    "numpy_array = np.genfromtxt(\"A2Q1Data.csv\", delimiter=\",\")\n",
    "# print(numpy_array)\n",
    "# print(numpy_array.ndim)\n",
    "# print(numpy_array.shape)\n",
    "# print(numpy_array.size)\n",
    "# print(len(numpy_array))"
   ]
  },
  {
   "cell_type": "code",
   "execution_count": 3,
   "metadata": {
    "scrolled": true
   },
   "outputs": [
    {
     "name": "stderr",
     "output_type": "stream",
     "text": [
      "/usr/local/lib/python2.7/dist-packages/ipykernel_launcher.py:59: DeprecationWarning: elementwise comparison failed; this will raise an error in the future.\n",
      "/usr/local/lib/python2.7/dist-packages/ipykernel_launcher.py:47: RuntimeWarning: invalid value encountered in double_scalars\n"
     ]
    }
   ],
   "source": [
    "#numpy_array - datapoints\n",
    "#k - number of clusters\n",
    "#z - cluster to which x belongs\n",
    "#mean - mean of each cluster in current iteration\n",
    "#error - used to find minimum error in current iteration of each points\n",
    "\n",
    "k = 4\n",
    "#init z as 0\n",
    "z = np.zeros(numpy_array.size, dtype = int)\n",
    "#init mean as first 4 elements\n",
    "mean = [numpy_array[0],numpy_array[1],numpy_array[2],numpy_array[3]]\n",
    "\n",
    "#calculate z w.r.t. minimum error\n",
    "# for i in range(numpy_array.size):\n",
    "#     error = np.array([])\n",
    "#     for mu in mean:\n",
    "#         error = np.append(error,(numpy_array[i]-mu)**2)\n",
    "#     z[i] = error.argmin()\n",
    "#print(z)\n",
    "\n",
    "for i in range(numpy_array.size):\n",
    "    z[i] = rd.randint(0,3)\n",
    "# print(z)\n",
    "\n",
    "z_init = np.array([])\n",
    "for i in z:\n",
    "    z_init = np.append(z_init,i)\n",
    "    \n",
    "# print(z_init)\n",
    "#print(mean)\n",
    "iterations = 10\n",
    "\n",
    "#traverse for each iteration\n",
    "mean_main = np.array([])\n",
    "for t in range(iterations):\n",
    "    #init mean and cnt(calculate n(datapoint) in each cluster) at every iteration\n",
    "    mean = np.zeros(k)\n",
    "    cnt = np.zeros(k, dtype = int)\n",
    "    #calculate mean\n",
    "    for i in range(z.size):\n",
    "        #print(mean[z[i]])\n",
    "        mean[z[i]] = mean[z[i]] + numpy_array[i]\n",
    "        cnt[z[i]] = cnt[z[i]] + 1\n",
    "    #print(mean)\n",
    "    #print(cnt)\n",
    "    for i in range(mean.size):\n",
    "        if(math.isnan(mean[i]/cnt[i])):\n",
    "            mean[i] = 0\n",
    "        else:\n",
    "            mean[i] = mean[i]/cnt[i]\n",
    "    #print(mean)\n",
    "    #calculate z w.r.t. minimum error\n",
    "    for i in range(numpy_array.size):\n",
    "        error = np.array([])\n",
    "        for mu in mean:\n",
    "            error = np.append(error,(numpy_array[i]-mu)**2)\n",
    "        z[i] = error.argmin()\n",
    "    #print(z) \n",
    "    compare = (mean == mean_main)\n",
    "    if(np.all(compare)):\n",
    "        break\n",
    "    mean_main = mean\n",
    "    \n"
   ]
  },
  {
   "cell_type": "code",
   "execution_count": 6,
   "metadata": {},
   "outputs": [
    {
     "data": {
      "image/png": "[encoded data removed]",
      "text/plain": [
       "<Figure size 432x288 with 1 Axes>"
      ]
     },
     "metadata": {
      "needs_background": "light"
     },
     "output_type": "display_data"
    }
   ],
   "source": [
    "plt.suptitle('Intial distribution of datapoints in clusters', fontsize=20)\n",
    "plt.ylabel(\"cluster number\")\n",
    "plt.xlabel(\"datapoint value\")\n",
    "plt.scatter(numpy_array[:], z_init[:], s=150)\n",
    "plt.show()"
   ]
  },
  {
   "cell_type": "code",
   "execution_count": 7,
   "metadata": {},
   "outputs": [
    {
     "data": {
      "image/png": "[encoded data removed]",
      "text/plain": [
       "<Figure size 432x288 with 1 Axes>"
      ]
     },
     "metadata": {
      "needs_background": "light"
     },
     "output_type": "display_data"
    }
   ],
   "source": [
    "plt.suptitle('Final distribution of datapoints in clusters', fontsize=20)\n",
    "plt.ylabel(\"cluster number\")\n",
    "plt.xlabel(\"datapoint value\")\n",
    "plt.scatter(numpy_array[:], z[:], s=150)\n",
    "plt.show()"
   ]
  },
  {
   "cell_type": "code",
   "execution_count": null,
   "metadata": {},
   "outputs": [],
   "source": []
  }
 ],
 "metadata": {
  "kernelspec": {
   "display_name": "Python 3",
   "language": "python",
   "name": "python3"
  },
  "language_info": {
   "codemirror_mode": {
    "name": "ipython",
    "version": 3
   },
   "file_extension": ".py",
   "mimetype": "text/x-python",
   "name": "python",
   "nbconvert_exporter": "python",
   "pygments_lexer": "ipython3",
   "version": "3.8.5"
  }
 },
 "nbformat": 4,
 "nbformat_minor": 2
}
